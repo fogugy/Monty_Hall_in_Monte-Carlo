{
 "cells": [
  {
   "cell_type": "code",
   "execution_count": 1,
   "metadata": {},
   "outputs": [],
   "source": [
    "import numpy as np\n",
    "import matplotlib.pyplot as plt\n",
    "import pandas as pd\n",
    "import random as rnd\n",
    "%matplotlib inline"
   ]
  },
  {
   "cell_type": "code",
   "execution_count": 2,
   "metadata": {},
   "outputs": [],
   "source": [
    "iterations = 10000\n",
    "boxes_count = 3"
   ]
  },
  {
   "cell_type": "code",
   "execution_count": 3,
   "metadata": {},
   "outputs": [],
   "source": [
    "def getBox():\n",
    "    boxes = [0]*boxes_count\n",
    "    boxes[rnd.randint(0, boxes_count-1)] = 1\n",
    "    return boxes"
   ]
  },
  {
   "cell_type": "code",
   "execution_count": 4,
   "metadata": {},
   "outputs": [],
   "source": [
    "boxes = [getBox() for x in range(iterations)]\n",
    "\n",
    "df = pd.DataFrame({'boxes':boxes})"
   ]
  },
  {
   "cell_type": "code",
   "execution_count": 5,
   "metadata": {},
   "outputs": [],
   "source": [
    "# выбираем коробок\n",
    "df['choise_1'] = [rnd.randint(0, boxes_count-1) for x in range(iterations)]"
   ]
  },
  {
   "cell_type": "code",
   "execution_count": 6,
   "metadata": {},
   "outputs": [],
   "source": [
    "def openBox(row):\n",
    "    return next(i for i, x in enumerate(row['boxes']) if i != row['choise_1'] and x == 0)\n",
    "\n",
    "# открываем один коробок\n",
    "df['openedBoxIndex'] = df.apply(lambda x: openBox(x), axis=1)"
   ]
  },
  {
   "cell_type": "code",
   "execution_count": 7,
   "metadata": {
    "scrolled": true
   },
   "outputs": [
    {
     "data": {
      "text/html": [
       "<div>\n",
       "<style scoped>\n",
       "    .dataframe tbody tr th:only-of-type {\n",
       "        vertical-align: middle;\n",
       "    }\n",
       "\n",
       "    .dataframe tbody tr th {\n",
       "        vertical-align: top;\n",
       "    }\n",
       "\n",
       "    .dataframe thead th {\n",
       "        text-align: right;\n",
       "    }\n",
       "</style>\n",
       "<table border=\"1\" class=\"dataframe\">\n",
       "  <thead>\n",
       "    <tr style=\"text-align: right;\">\n",
       "      <th></th>\n",
       "      <th>boxes</th>\n",
       "      <th>choise_1</th>\n",
       "      <th>openedBoxIndex</th>\n",
       "    </tr>\n",
       "  </thead>\n",
       "  <tbody>\n",
       "    <tr>\n",
       "      <th>0</th>\n",
       "      <td>[0, 1, 0]</td>\n",
       "      <td>2</td>\n",
       "      <td>0</td>\n",
       "    </tr>\n",
       "    <tr>\n",
       "      <th>1</th>\n",
       "      <td>[1, 0, 0]</td>\n",
       "      <td>1</td>\n",
       "      <td>2</td>\n",
       "    </tr>\n",
       "    <tr>\n",
       "      <th>2</th>\n",
       "      <td>[0, 1, 0]</td>\n",
       "      <td>1</td>\n",
       "      <td>0</td>\n",
       "    </tr>\n",
       "    <tr>\n",
       "      <th>3</th>\n",
       "      <td>[0, 0, 1]</td>\n",
       "      <td>2</td>\n",
       "      <td>0</td>\n",
       "    </tr>\n",
       "    <tr>\n",
       "      <th>4</th>\n",
       "      <td>[0, 1, 0]</td>\n",
       "      <td>1</td>\n",
       "      <td>0</td>\n",
       "    </tr>\n",
       "  </tbody>\n",
       "</table>\n",
       "</div>"
      ],
      "text/plain": [
       "       boxes  choise_1  openedBoxIndex\n",
       "0  [0, 1, 0]         2               0\n",
       "1  [1, 0, 0]         1               2\n",
       "2  [0, 1, 0]         1               0\n",
       "3  [0, 0, 1]         2               0\n",
       "4  [0, 1, 0]         1               0"
      ]
     },
     "execution_count": 7,
     "metadata": {},
     "output_type": "execute_result"
    }
   ],
   "source": [
    "df.head()"
   ]
  },
  {
   "cell_type": "code",
   "execution_count": 8,
   "metadata": {},
   "outputs": [],
   "source": [
    "def reselect(row):\n",
    "    return rnd.choice([x for i, x in enumerate(row['boxes']) if i != row['openedBoxIndex']])\n",
    "\n",
    "def change_mind(row):\n",
    "    return rnd.choice([x for i, x in enumerate(row['boxes']) if i != row['openedBoxIndex'] and i != row['choise_1']])\n",
    "\n",
    "\n",
    "df['final_choice_same'] = df.apply(lambda x: x['boxes'][x['choise_1']], axis=1)\n",
    "df['final_choice_from_rest'] = df.apply(lambda x: reselect(x), axis=1)\n",
    "df['final_choice_change_mind'] = df.apply(lambda x: change_mind(x), axis=1)"
   ]
  },
  {
   "cell_type": "code",
   "execution_count": 9,
   "metadata": {
    "scrolled": true
   },
   "outputs": [
    {
     "data": {
      "text/html": [
       "<div>\n",
       "<style scoped>\n",
       "    .dataframe tbody tr th:only-of-type {\n",
       "        vertical-align: middle;\n",
       "    }\n",
       "\n",
       "    .dataframe tbody tr th {\n",
       "        vertical-align: top;\n",
       "    }\n",
       "\n",
       "    .dataframe thead th {\n",
       "        text-align: right;\n",
       "    }\n",
       "</style>\n",
       "<table border=\"1\" class=\"dataframe\">\n",
       "  <thead>\n",
       "    <tr style=\"text-align: right;\">\n",
       "      <th></th>\n",
       "      <th>boxes</th>\n",
       "      <th>choise_1</th>\n",
       "      <th>openedBoxIndex</th>\n",
       "      <th>final_choice_same</th>\n",
       "      <th>final_choice_from_rest</th>\n",
       "      <th>final_choice_change_mind</th>\n",
       "    </tr>\n",
       "  </thead>\n",
       "  <tbody>\n",
       "    <tr>\n",
       "      <th>0</th>\n",
       "      <td>[0, 1, 0]</td>\n",
       "      <td>2</td>\n",
       "      <td>0</td>\n",
       "      <td>0</td>\n",
       "      <td>0</td>\n",
       "      <td>1</td>\n",
       "    </tr>\n",
       "    <tr>\n",
       "      <th>1</th>\n",
       "      <td>[1, 0, 0]</td>\n",
       "      <td>1</td>\n",
       "      <td>2</td>\n",
       "      <td>0</td>\n",
       "      <td>1</td>\n",
       "      <td>1</td>\n",
       "    </tr>\n",
       "    <tr>\n",
       "      <th>2</th>\n",
       "      <td>[0, 1, 0]</td>\n",
       "      <td>1</td>\n",
       "      <td>0</td>\n",
       "      <td>1</td>\n",
       "      <td>0</td>\n",
       "      <td>0</td>\n",
       "    </tr>\n",
       "    <tr>\n",
       "      <th>3</th>\n",
       "      <td>[0, 0, 1]</td>\n",
       "      <td>2</td>\n",
       "      <td>0</td>\n",
       "      <td>1</td>\n",
       "      <td>1</td>\n",
       "      <td>0</td>\n",
       "    </tr>\n",
       "    <tr>\n",
       "      <th>4</th>\n",
       "      <td>[0, 1, 0]</td>\n",
       "      <td>1</td>\n",
       "      <td>0</td>\n",
       "      <td>1</td>\n",
       "      <td>1</td>\n",
       "      <td>0</td>\n",
       "    </tr>\n",
       "  </tbody>\n",
       "</table>\n",
       "</div>"
      ],
      "text/plain": [
       "       boxes  choise_1  openedBoxIndex  final_choice_same  \\\n",
       "0  [0, 1, 0]         2               0                  0   \n",
       "1  [1, 0, 0]         1               2                  0   \n",
       "2  [0, 1, 0]         1               0                  1   \n",
       "3  [0, 0, 1]         2               0                  1   \n",
       "4  [0, 1, 0]         1               0                  1   \n",
       "\n",
       "   final_choice_from_rest  final_choice_change_mind  \n",
       "0                       0                         1  \n",
       "1                       1                         1  \n",
       "2                       0                         0  \n",
       "3                       1                         0  \n",
       "4                       1                         0  "
      ]
     },
     "execution_count": 9,
     "metadata": {},
     "output_type": "execute_result"
    }
   ],
   "source": [
    "df.head()"
   ]
  },
  {
   "cell_type": "code",
   "execution_count": 10,
   "metadata": {},
   "outputs": [
    {
     "name": "stdout",
     "output_type": "stream",
     "text": [
      "Не менять выбор:  0.3331\n",
      "Выбрать заново из оставшихся:  0.5019\n",
      "Взять из оставшихся другую:  0.6669\n",
      "Из 3 коробок, 10000 итераций\n"
     ]
    }
   ],
   "source": [
    "print('Не менять выбор: ', df.final_choice_same.sum()/iterations)\n",
    "print('Выбрать заново из оставшихся: ', df.final_choice_from_rest.sum()/iterations)\n",
    "print('Взять из оставшихся другую: ', df.final_choice_change_mind.sum()/iterations)\n",
    "print(f'Из {boxes_count} коробок, {iterations} итераций')"
   ]
  },
  {
   "cell_type": "code",
   "execution_count": null,
   "metadata": {},
   "outputs": [],
   "source": []
  }
 ],
 "metadata": {
  "kernelspec": {
   "display_name": "Python 3",
   "language": "python",
   "name": "python3"
  },
  "language_info": {
   "codemirror_mode": {
    "name": "ipython",
    "version": 3
   },
   "file_extension": ".py",
   "mimetype": "text/x-python",
   "name": "python",
   "nbconvert_exporter": "python",
   "pygments_lexer": "ipython3",
   "version": "3.7.0"
  }
 },
 "nbformat": 4,
 "nbformat_minor": 2
}
